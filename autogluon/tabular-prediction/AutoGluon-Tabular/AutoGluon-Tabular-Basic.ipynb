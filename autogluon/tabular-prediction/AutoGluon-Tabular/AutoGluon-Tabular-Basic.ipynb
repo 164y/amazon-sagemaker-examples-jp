{
 "cells": [
  {
   "cell_type": "markdown",
   "metadata": {},
   "source": [
    "# AutoGluon-Tabularを用いたシンプルな機械学習モデルの開発\n",
    "\n",
    "このノートブックでは、AutoGluon-Tabular による高精度な機械学習モデル構築の（半）自動化をご体験頂きます。\n",
    "データと予測カラム名を指定するだけでもデフォルト設定でモデル構築できますが、カスタマイズしたい点が色々と出てくるかと思います。どのようなカスタマイズができるかについてもいくつかご紹介したいと思います。"
   ]
  },
  {
   "cell_type": "markdown",
   "metadata": {},
   "source": [
    "## 準備\n",
    "必要となるライブラリをインストールします。"
   ]
  },
  {
   "cell_type": "code",
   "execution_count": null,
   "metadata": {},
   "outputs": [],
   "source": [
    "# 必要なライブラリをインストールします\n",
    "!pip install --upgrade mxnet\n",
    "!pip install autogluon"
   ]
  },
  {
   "cell_type": "markdown",
   "metadata": {},
   "source": [
    "ライブラリをインポートします。"
   ]
  },
  {
   "cell_type": "code",
   "execution_count": null,
   "metadata": {},
   "outputs": [],
   "source": [
    "from autogluon import TabularPrediction as task\n",
    "from IPython.display import HTML"
   ]
  },
  {
   "cell_type": "markdown",
   "metadata": {},
   "source": [
    "## データの取得\n",
    "このサンプルでは、ある人の年収が50K USDを超えるかどうかを二値分類する機械学習モデルを構築します。そのためのデータをダウンロードし、学習用データを準備します。今回は最初の500サンプルだけを利用します。"
   ]
  },
  {
   "cell_type": "code",
   "execution_count": null,
   "metadata": {},
   "outputs": [],
   "source": [
    "train_data = task.Dataset(file_path='https://autogluon.s3.amazonaws.com/datasets/Inc/train.csv')\n",
    "train_data = train_data.head(500)\n",
    "train_data.head()"
   ]
  },
  {
   "cell_type": "markdown",
   "metadata": {},
   "source": [
    "予測対象となる `class` 列に格納されているデータについて確認してみましょう。"
   ]
  },
  {
   "cell_type": "code",
   "execution_count": null,
   "metadata": {},
   "outputs": [],
   "source": [
    "label_column = 'class'\n",
    "\n",
    "print(\"Summary of class variable: \\n\", train_data[label_column].describe())"
   ]
  },
  {
   "cell_type": "markdown",
   "metadata": {},
   "source": [
    "50K USD以下の方が394人となっていることが確認できます。"
   ]
  },
  {
   "cell_type": "markdown",
   "metadata": {},
   "source": [
    "## デフォルト設定での学習\n",
    "このデータを用いて学習を行います。デフォルトでは、精度とコスト（メモリ使用量や推論速度等）においてバランスが取られた設定となっています。もし精度を優先してモデル構築したい場合には、 `fit()` メソッドの引数で、`preset='best_quality'` を使います。この後、このオプションでの実行も行います。詳細は[こちら](https://autogluon.mxnet.io/api/autogluon.task.html#autogluon.task.TabularPrediction.fit)をご確認下さい。"
   ]
  },
  {
   "cell_type": "markdown",
   "metadata": {},
   "source": [
    "### 学習\n",
    "まずは、特にオプション設定をせずに学習を行います。基準となる評価指標は `accuracy` で、presetsは `medium_quality_faster_train` です。"
   ]
  },
  {
   "cell_type": "code",
   "execution_count": null,
   "metadata": {},
   "outputs": [],
   "source": [
    "# 学習したモデルを保存するディレクトリを指定します。\n",
    "default_savedir = 'ag_models_default'\n",
    "\n",
    "predictor = task.fit(train_data=train_data, label=label_column, output_directory=default_savedir)"
   ]
  },
  {
   "cell_type": "markdown",
   "metadata": {},
   "source": [
    "学習の過程においてどのような探索を行ったか、確認してみましょう。"
   ]
  },
  {
   "cell_type": "code",
   "execution_count": null,
   "metadata": {},
   "outputs": [],
   "source": [
    "results = predictor.fit_summary()"
   ]
  },
  {
   "cell_type": "markdown",
   "metadata": {},
   "source": [
    "[`Bokeh`](https://docs.bokeh.org/en/latest/index.html) がインストールされていれば、学習の結果は HTML ファイルとして、`output_directory` へ指定したディレクトリに保存されるかと思います。SageMakerのノートブックインスタンス上で、`conda_mxnet_p36` のカーネルを選択して頂いていれば、インストールされているかと思います。"
   ]
  },
  {
   "cell_type": "code",
   "execution_count": null,
   "metadata": {},
   "outputs": [],
   "source": [
    "# Bokehがインストール済みの場合\n",
    "HTML(filename='ag_models_default/SummaryOfModels.html')"
   ]
  },
  {
   "cell_type": "markdown",
   "metadata": {},
   "source": [
    "### 推論\n",
    "推論のためのテストデータをダウンロードし、確認してみましょう。"
   ]
  },
  {
   "cell_type": "code",
   "execution_count": null,
   "metadata": {},
   "outputs": [],
   "source": [
    "test_data = task.Dataset(file_path='https://autogluon.s3.amazonaws.com/datasets/Inc/test.csv')\n",
    "y_test = test_data[label_column]\n",
    "test_data.head()"
   ]
  },
  {
   "cell_type": "markdown",
   "metadata": {},
   "source": [
    "`leaderboard` メソッドを使うと学習の過程で生成されたそれぞれのモデルについて、テストデータ、バリデーションデータでの性能、時間などが表示されます。"
   ]
  },
  {
   "cell_type": "code",
   "execution_count": null,
   "metadata": {},
   "outputs": [],
   "source": [
    "leaderboard = predictor.leaderboard(test_data)\n",
    "leaderboard"
   ]
  },
  {
   "cell_type": "markdown",
   "metadata": {},
   "source": [
    "テストデータからclassカラムを抜いたデータを用いて推論を行います。もし、学習済モデルを使用する場合には、`predictor = task.load(savedir)` のように保存用ディレクトリからロードすることができます。"
   ]
  },
  {
   "cell_type": "code",
   "execution_count": null,
   "metadata": {},
   "outputs": [],
   "source": [
    "_test_data = test_data.drop(labels=[label_column], axis=1)\n",
    "y_pred = predictor.predict(_test_data)"
   ]
  },
  {
   "cell_type": "markdown",
   "metadata": {},
   "source": [
    "今回学習させたモデルについて、その精度を評価してみましょう。"
   ]
  },
  {
   "cell_type": "code",
   "execution_count": null,
   "metadata": {},
   "outputs": [],
   "source": [
    "perf = predictor.evaluate_predictions(y_true=y_test, y_pred=y_pred, auxiliary_metrics=True)"
   ]
  },
  {
   "cell_type": "markdown",
   "metadata": {},
   "source": [
    "##  精度を重視したモデル構築\n",
    "ここでは、presetsオプションで、`best_quality` を指定して精度を重視したモデルを構築してみます。学習されるモデルがどう変わるのか、学習や推論にかかる時間、精度がどう変わるのかといったことを比較してみて下さい。"
   ]
  },
  {
   "cell_type": "markdown",
   "metadata": {},
   "source": [
    "### 学習"
   ]
  },
  {
   "cell_type": "code",
   "execution_count": null,
   "metadata": {},
   "outputs": [],
   "source": [
    "# 学習したモデルを保存するディレクトリを指定します。\n",
    "best_savedir = 'ag_models_best'\n",
    "\n",
    "predictor = task.fit(train_data=train_data, label=label_column, output_directory=best_savedir, presets='best_quality')"
   ]
  },
  {
   "cell_type": "code",
   "execution_count": null,
   "metadata": {},
   "outputs": [],
   "source": [
    "results = predictor.fit_summary()"
   ]
  },
  {
   "cell_type": "code",
   "execution_count": null,
   "metadata": {},
   "outputs": [],
   "source": [
    "# Bokehがインストール済みの場合\n",
    "HTML(filename='ag_models_best/SummaryOfModels.html')"
   ]
  },
  {
   "cell_type": "markdown",
   "metadata": {},
   "source": [
    "### 推論\n",
    "同様に、`leaderborad` メソッドや `evaluate_predictions` メソッドを使ってモデルの評価を見てみましょう。"
   ]
  },
  {
   "cell_type": "code",
   "execution_count": null,
   "metadata": {},
   "outputs": [],
   "source": [
    "leaderboard = predictor.leaderboard(test_data)\n",
    "leaderboard"
   ]
  },
  {
   "cell_type": "markdown",
   "metadata": {},
   "source": [
    "今回学習させたモデルについて、その精度を評価してみましょう。先ほどのデフォルト設定の時と比べて、精度はどう変わったか見てみましょう。"
   ]
  },
  {
   "cell_type": "code",
   "execution_count": null,
   "metadata": {},
   "outputs": [],
   "source": [
    "y_pred = predictor.predict(_test_data)\n",
    "perf = predictor.evaluate_predictions(y_true=y_test, y_pred=y_pred, auxiliary_metrics=True)"
   ]
  },
  {
   "cell_type": "markdown",
   "metadata": {},
   "source": [
    "デフォルト設定よりも学習時間が増えています。学習時間を短くするために、`time_limits`オプションを指定してみましょう。"
   ]
  },
  {
   "cell_type": "markdown",
   "metadata": {},
   "source": [
    "## 時間制限の目安を指定したモデル構築"
   ]
  },
  {
   "cell_type": "markdown",
   "metadata": {},
   "source": [
    "### 学習\n",
    "先程と同様に presets オプションで `best_quality` を指定し、`time_limits` オプションを指定することで、学習を目安時間内で行うよう指定できます。"
   ]
  },
  {
   "cell_type": "code",
   "execution_count": null,
   "metadata": {},
   "outputs": [],
   "source": [
    "# 学習したモデルを保存するディレクトリを指定します。\n",
    "best_time_savedir = 'ag_models_best_time'\n",
    "\n",
    "# 時間制限を20秒にして学習を実行してみます。この時間は目安です。\n",
    "time_limits = 20\n",
    "predictor = task.fit(train_data=train_data, label=label_column, output_directory=best_time_savedir, presets='best_quality', time_limits =time_limits )"
   ]
  },
  {
   "cell_type": "code",
   "execution_count": null,
   "metadata": {},
   "outputs": [],
   "source": [
    "results = predictor.fit_summary()"
   ]
  },
  {
   "cell_type": "code",
   "execution_count": null,
   "metadata": {},
   "outputs": [],
   "source": [
    "# Bokehがインストール済みの場合\n",
    "HTML(filename='ag_models_best_time/SummaryOfModels.html')"
   ]
  },
  {
   "cell_type": "markdown",
   "metadata": {},
   "source": [
    "### 推論"
   ]
  },
  {
   "cell_type": "code",
   "execution_count": null,
   "metadata": {},
   "outputs": [],
   "source": [
    "leaderboard = predictor.leaderboard(test_data)\n",
    "leaderboard"
   ]
  },
  {
   "cell_type": "code",
   "execution_count": null,
   "metadata": {},
   "outputs": [],
   "source": [
    "y_pred = predictor.predict(_test_data)\n",
    "perf = predictor.evaluate_predictions(y_true=y_test, y_pred=y_pred, auxiliary_metrics=True)"
   ]
  },
  {
   "cell_type": "markdown",
   "metadata": {},
   "source": [
    "時間制限を設けなかった場合と比べて `accuracy` はどう変わったでしょうか。"
   ]
  },
  {
   "cell_type": "markdown",
   "metadata": {},
   "source": [
    "## AUCを評価指標とした場合\n",
    "AutoGluonでは、ハイパーパラメータやアンサンブルの重みなどをバリデーションデータでの評価指標に基づいてチューニングします。 二値分類の際、デフォルトでは `accuracy` が評価指標ですが、`log_loss` や `f1` へ変えることもできます。また、独自の指標を活用することも出来ます。今回は評価指標を `AUC` に変えてみましょう。どのような指標を選択できるか詳しくは[こちら](https://autogluon.mxnet.io/api/autogluon.task.html#autogluon.task.TabularPrediction.fit)をご確認下さい。"
   ]
  },
  {
   "cell_type": "markdown",
   "metadata": {},
   "source": [
    "### 学習"
   ]
  },
  {
   "cell_type": "code",
   "execution_count": null,
   "metadata": {},
   "outputs": [],
   "source": [
    "# 学習したモデルを保存するディレクトリを指定します。\n",
    "savedir = 'ag_models_auc'\n",
    "\n",
    "# 評価指標を指定します。\n",
    "eval_metric = 'roc_auc'\n",
    "predictor = task.fit(train_data=train_data, label=label_column, eval_metric=eval_metric, output_directory=savedir)"
   ]
  },
  {
   "cell_type": "code",
   "execution_count": null,
   "metadata": {},
   "outputs": [],
   "source": [
    "results = predictor.fit_summary()"
   ]
  },
  {
   "cell_type": "code",
   "execution_count": null,
   "metadata": {},
   "outputs": [],
   "source": [
    "# Bokehがインストール済みの場合\n",
    "HTML(filename='ag_models_auc/SummaryOfModels.html')"
   ]
  },
  {
   "cell_type": "markdown",
   "metadata": {},
   "source": [
    "### 推論\n",
    "\n",
    "これまでと同様に推論を実行しモデルの評価を確認します。"
   ]
  },
  {
   "cell_type": "code",
   "execution_count": null,
   "metadata": {},
   "outputs": [],
   "source": [
    "leaderboard = predictor.leaderboard(test_data)\n",
    "leaderboard"
   ]
  },
  {
   "cell_type": "markdown",
   "metadata": {},
   "source": [
    "`AUC` を表示します。ここで使っている `evaluate` メソッドは `predict` メソッドと、 `evaluate_prediction` メソッドの短縮形です。"
   ]
  },
  {
   "cell_type": "code",
   "execution_count": null,
   "metadata": {},
   "outputs": [],
   "source": [
    "performance = predictor.evaluate(test_data)"
   ]
  },
  {
   "cell_type": "markdown",
   "metadata": {},
   "source": [
    "## モデルの解釈\n",
    "学習されたモデルの解釈を行います。\n",
    "下記のメソッドで計算される特徴量の重要度スコアは、その特徴量がランダムにシャッフルされた場合の性能の低下度合いです。特徴量スコアが0.01であるというのは、この性能の低下が0.01であるということです。特徴量のスコアが高いほど、その特徴量がモデルの性能に重要であると考えられます。スコアがマイナスの場合、その特徴量がモデルの性能にとってマイナスである可能性があります。くわしくは<a href='https://autogluon.mxnet.io/api/autogluon.task.html#autogluon.task.tabular_prediction.TabularPredictor.feature_importance'>こちら</a>をご確認ください。"
   ]
  },
  {
   "cell_type": "code",
   "execution_count": null,
   "metadata": {},
   "outputs": [],
   "source": [
    "predictor.feature_importance(test_data)"
   ]
  }
 ],
 "metadata": {
  "kernelspec": {
   "display_name": "conda_mxnet_p36",
   "language": "python",
   "name": "conda_mxnet_p36"
  },
  "language_info": {
   "codemirror_mode": {
    "name": "ipython",
    "version": 3
   },
   "file_extension": ".py",
   "mimetype": "text/x-python",
   "name": "python",
   "nbconvert_exporter": "python",
   "pygments_lexer": "ipython3",
   "version": "3.6.10"
  }
 },
 "nbformat": 4,
 "nbformat_minor": 4
}
