{
 "cells": [
  {
   "cell_type": "markdown",
   "metadata": {},
   "source": [
    "# メトリクスを使った学習ジョブの監視\n",
    "本ハンズオンではAmazon SageMaker を使用して学習した場合のメトリクスの監視について実施します。 前半ではAmazon CloudWatch を使用した監視を行います。 CloudWatch では、学習ジョブから出力された raw データを収集し、ほぼリアルタイムの読み取り可能なメトリクスに加工できます。\n",
    "\n",
    "また後半では、Keras がバッチ毎に出力した学習ログを活用してTensorboardにて学習の状況を監視する方法を実践します。"
   ]
  },
  {
   "cell_type": "markdown",
   "metadata": {},
   "source": [
    "## Amazon SageMaker Python SDK での学習メトリクスの定義\n",
    "CloudWatch にメトリクスを送信するためには、標準出力を正規表現でパースし、Estimator の metric_definitions 引数に渡します。もし`train:error`と`validation:error`というメトリクスを監視したい場合には、下記のようになります。\n",
    "\n",
    "```python \n",
    "estimator = Estimator(image_name=ImageName,\n",
    "            role='SageMakerRole', train_instance_count=1,\n",
    "            train_instance_type='ml.c4.xlarge',            \n",
    "            k=10,\n",
    "            metric_definitions=[\n",
    "                   {'Name': 'train:error', 'Regex': 'Train_error=(.*?);'},\n",
    "                   {'Name': 'validation:error', 'Regex': 'Valid_error=(.*?);'}\n",
    "            ])\n",
    "```"
   ]
  },
  {
   "cell_type": "markdown",
   "metadata": {},
   "source": [
    "## cifar10 の学習ジョブの監視\n",
    "今回の Keras のがどのようなメトリクスを出力しているか、以前の cifar10_keras_sm の学習ジョブを SageMaker のコンソールから探しましょう。 学習ジョブの詳細からモニタリング、ログの表示と進んでいくことで標準出力を確認することが出来ます。\n",
    "\n",
    "確認したメトリクスをパースできるように metric_definitions を定義します。"
   ]
  },
  {
   "cell_type": "code",
   "execution_count": null,
   "metadata": {},
   "outputs": [],
   "source": [
    "metric_definitions = [\n",
    "    {'Name': 'train:loss', 'Regex': 'loss: (.*?) '},\n",
    "    {'Name': 'train:accuracy', 'Regex': 'acc: (.*?) '},\n",
    "    {'Name': 'validation:loss', 'Regex': 'val_loss: (.*?) '},\n",
    "    {'Name': 'validation:accuracy', 'Regex': 'val_acc: (.*?) '}\n",
    "]"
   ]
  },
  {
   "cell_type": "markdown",
   "metadata": {},
   "source": [
    "`metric_definitions=metric_definitions` として、学習ジョブを実行します。  "
   ]
  },
  {
   "cell_type": "code",
   "execution_count": null,
   "metadata": {},
   "outputs": [],
   "source": [
    "import os\n",
    "import sagemaker\n",
    "from sagemaker import get_execution_role\n",
    "\n",
    "from sagemaker.tensorflow import TensorFlow\n",
    "\n",
    "sagemaker_session = sagemaker.Session()\n",
    "\n",
    "role = get_execution_role()\n",
    "\n",
    "dataset_location = sagemaker_session.upload_data(path='data', key_prefix='data/DEMO-cifar10')"
   ]
  },
  {
   "cell_type": "code",
   "execution_count": null,
   "metadata": {},
   "outputs": [],
   "source": [
    "estimator = TensorFlow(base_job_name='cifar10',\n",
    "                       entry_point='cifar10_keras_sm_sample1_CloudWatch.py',\n",
    "                       source_dir='training_script',\n",
    "                       role=role,\n",
    "                       framework_version='1.12.0',\n",
    "                       py_version='py3',\n",
    "                       hyperparameters={'epochs' : 5},\n",
    "                       train_instance_count=1,\n",
    "                       train_instance_type='ml.p3.2xlarge',\n",
    "                       metric_definitions=metric_definitions)\n",
    "\n",
    "\n",
    "estimator.fit({'train':'{}/train'.format(dataset_location),\n",
    "              'validation':'{}/validation'.format(dataset_location),\n",
    "              'eval':'{}/eval'.format(dataset_location)})"
   ]
  },
  {
   "cell_type": "markdown",
   "metadata": {},
   "source": [
    "### View the job training metrics\n",
    "学習中のメトリクスの遷移は [SageMaker のコンソール](https://console.aws.amazon.com/sagemaker/home) から確認することが出来ます。下記のセルに表示されるリンクもお使い下さい。"
   ]
  },
  {
   "cell_type": "code",
   "execution_count": null,
   "metadata": {},
   "outputs": [],
   "source": [
    "from IPython.core.display import Markdown\n",
    "\n",
    "link = 'https://console.aws.amazon.com/cloudwatch/home?region='+sagemaker_session.boto_region_name+'#metricsV2:query=%7B/aws/sagemaker/TrainingJobs,TrainingJobName%7D%20'+estimator.latest_training_job.job_name\n",
    "display(Markdown('コチラのリンクもお使い下さい。: [リンク]('+link+')'))"
   ]
  },
  {
   "cell_type": "markdown",
   "metadata": {},
   "source": [
    "## TensorBoard を使った監視\n",
    "次は TensorBoard を使ったメトリクスの監視を行います。"
   ]
  },
  {
   "cell_type": "markdown",
   "metadata": {},
   "source": [
    "次に`cifar10-keras-sm.py` をアップデートして 学習ログを TensorBoard へ送信しましょう。変更点は下記2点です。\n",
    "\n",
    "①`from keras.callbacks import TensorBoard` の追加\n",
    "\n",
    "② ModelCheckpoint callback の後に TensorBoard callback の追加。\n",
    "\n",
    "```python\n",
    "callbacks.append(TensorBoard(log_dir=args.model_dir,update_freq='epoch'))\n",
    "```"
   ]
  },
  {
   "cell_type": "markdown",
   "metadata": {},
   "source": [
    "### TensorBoard を使った学習ジョブの実行"
   ]
  },
  {
   "cell_type": "code",
   "execution_count": null,
   "metadata": {},
   "outputs": [],
   "source": [
    "estimator = TensorFlow(base_job_name='cifar10',\n",
    "                       entry_point='cifar10_keras_sm_sample1_TensorBoard.py',\n",
    "                       source_dir='training_script',\n",
    "                       role=role,\n",
    "                       framework_version='1.12.0',\n",
    "                       py_version='py3',\n",
    "                       hyperparameters={'epochs' : 5},\n",
    "                       train_instance_count=1,\n",
    "                       train_instance_type='ml.p2.xlarge',\n",
    "                       metric_definitions=metric_definitions)"
   ]
  },
  {
   "cell_type": "code",
   "execution_count": null,
   "metadata": {},
   "outputs": [],
   "source": [
    "estimator.fit({'train':'{}/train'.format(dataset_location),\n",
    "              'validation':'{}/validation'.format(dataset_location),\n",
    "              'eval':'{}/eval'.format(dataset_location)})"
   ]
  },
  {
   "cell_type": "markdown",
   "metadata": {},
   "source": [
    "TensorBoard で実行された学習ジョブを見ます。まずは [TensorBoard](https://github.com/tensorflow/tensorboard) をインストールします。"
   ]
  },
  {
   "cell_type": "code",
   "execution_count": null,
   "metadata": {},
   "outputs": [],
   "source": [
    "!pip install tensorboard"
   ]
  },
  {
   "cell_type": "markdown",
   "metadata": {},
   "source": [
    "次に TensorBoard をノートブックインスタンス上で起動します。お使いのリージョンと、学習ログを保管したS3パスから、起動コマンドを作成します。"
   ]
  },
  {
   "cell_type": "code",
   "execution_count": null,
   "metadata": {},
   "outputs": [],
   "source": [
    "from IPython.core.display import Markdown\n",
    "\n",
    "link = 'AWS_REGION=\\''+sagemaker_session.boto_region_name+'\\' tensorboard --logdir ' + estimator.model_dir + ' --host localhost --port 6006'\n",
    "display(Markdown('表示された TensorBoard の起動コマンドを次のセルで実行して下さい'))\n",
    "display(Markdown('!'+link))"
   ]
  },
  {
   "cell_type": "code",
   "execution_count": null,
   "metadata": {},
   "outputs": [],
   "source": [
    "!AWS_REGION='現在お使いのリージョン' tensorboard --logdir 'ログを保管したS3パス' --host localhost --port 6006"
   ]
  },
  {
   "cell_type": "markdown",
   "metadata": {},
   "source": [
    "下記のリンクをご自身のお使いの値に合わせて変更し、ブラウザでアクセスして下さい。\\\n",
    "`https://https://ノートブックインスタンス名.notebook.お使いのリージョン名.sagemaker.aws/proxy/6006/`"
   ]
  }
 ],
 "metadata": {
  "kernelspec": {
   "display_name": "conda_tensorflow_p36",
   "language": "python",
   "name": "conda_tensorflow_p36"
  },
  "language_info": {
   "codemirror_mode": {
    "name": "ipython",
    "version": 3
   },
   "file_extension": ".py",
   "mimetype": "text/x-python",
   "name": "python",
   "nbconvert_exporter": "python",
   "pygments_lexer": "ipython3",
   "version": "3.6.5"
  }
 },
 "nbformat": 4,
 "nbformat_minor": 4
}
